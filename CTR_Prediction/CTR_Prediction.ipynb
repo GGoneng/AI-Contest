{
 "cells": [
  {
   "cell_type": "code",
   "execution_count": 1,
   "id": "e0eede83",
   "metadata": {},
   "outputs": [],
   "source": [
    "from CTRModules import *\n",
    "\n",
    "import torch.optim as optim\n",
    "import torch.optim.lr_scheduler as lr_scheduler\n",
    "from torch.utils.data import DataLoader\n",
    "\n",
    "from torchmetrics.classification import AUROC\n",
    "\n",
    "import pandas as pd\n",
    "import numpy as np\n",
    "\n",
    "from sklearn.model_selection import train_test_split\n",
    "\n",
    "import gc\n",
    "\n",
    "import matplotlib.pyplot as plt"
   ]
  },
  {
   "cell_type": "code",
   "execution_count": 2,
   "id": "11ca0d5d",
   "metadata": {},
   "outputs": [],
   "source": [
    "DATA_PATH = \"F:/CTR_Prediction/\"\n",
    "\n",
    "X_train = pd.read_csv(DATA_PATH + \"X_train.csv\")\n",
    "X_val = pd.read_csv(DATA_PATH + \"X_val.csv\")\n",
    "y_train = pd.read_csv(DATA_PATH + \"y_train.csv\")\n",
    "y_val = pd.read_csv(DATA_PATH + \"y_val.csv\")"
   ]
  },
  {
   "cell_type": "code",
   "execution_count": 3,
   "id": "16c6a58d",
   "metadata": {},
   "outputs": [],
   "source": [
    "X_train_seq =  X_train.pop(\"seq\")\n",
    "X_val_seq = X_val.pop(\"seq\")"
   ]
  },
  {
   "cell_type": "code",
   "execution_count": 4,
   "id": "0016e713",
   "metadata": {},
   "outputs": [],
   "source": [
    "BATCH_SIZE = 128\n",
    "\n",
    "trainDS = CTRDataset(X_train, X_train_seq, y_train)\n",
    "valDS = CTRDataset(X_val, X_val_seq, y_val)\n",
    "\n",
    "trainDL = DataLoader(trainDS, batch_size=BATCH_SIZE, shuffle=True, collate_fn=collate_fn_train)\n",
    "valDL = DataLoader(valDS, batch_size=BATCH_SIZE, shuffle=False, collate_fn=collate_fn_train)"
   ]
  },
  {
   "cell_type": "code",
   "execution_count": 5,
   "id": "585191d3",
   "metadata": {},
   "outputs": [],
   "source": [
    "EPOCH = 300\n",
    "DEVICE = 'cuda' if torch.cuda.is_available() else 'cpu'\n",
    "LR = 1e-3\n",
    "\n",
    "hidden_dim = [512, 256, 128]\n",
    "\n",
    "num_embeddings = 600 + 1\n",
    "transformer_dim = 32\n",
    "nhead = 4\n",
    "num_encoder_layers = 1\n",
    "\n",
    "model = DCNv2(input_dim=X_train.shape[1],\n",
    "              num_layers=2,\n",
    "              hidden_dim=hidden_dim,\n",
    "              dropout=0.2,\n",
    "              num_embeddings=num_embeddings,\n",
    "              transformer_dim=transformer_dim,\n",
    "              nhead=nhead,\n",
    "              num_encoder_layers=num_encoder_layers\n",
    "              ).to(DEVICE)\n",
    "\n",
    "optimizer = optim.AdamW(model.parameters(), lr=LR)\n",
    "\n",
    "weight = torch.tensor([2])\n",
    "\n",
    "loss_fn = nn.BCELoss(weight=weight).to(DEVICE)\n",
    "score_fn = AUROC(task=\"binary\")\n",
    "\n",
    "scheduler = lr_scheduler.ReduceLROnPlateau(optimizer, mode='max', patience=5)\n",
    "\n",
    "data_size = len(X_train)\n",
    "val_data_size = len(X_val)"
   ]
  },
  {
   "cell_type": "code",
   "execution_count": 6,
   "id": "f6ce7346",
   "metadata": {},
   "outputs": [],
   "source": [
    "del X_train, X_train_seq, X_val, X_val_seq, y_train, y_val\n",
    "\n",
    "gc.collect()\n",
    "torch.cuda.empty_cache()"
   ]
  },
  {
   "cell_type": "code",
   "execution_count": null,
   "id": "83c3bff4",
   "metadata": {},
   "outputs": [
    {
     "name": "stdout",
     "output_type": "stream",
     "text": [
      "[1 / 300]\n",
      " - TRAIN LOSS : 67.28295744086857\n",
      "- TRAIN DICE SCORE : 0.5000197291374207\n",
      "\n",
      " - TEST LOSS : 66.67156430625361\n",
      "- TEST DICE SCORE : 0.5000362992286682\n",
      "[2 / 300]\n",
      " - TRAIN LOSS : 66.67319689250667\n",
      "- TRAIN DICE SCORE : 0.5000138282775879\n",
      "\n",
      " - TEST LOSS : 66.67156430625361\n",
      "- TEST DICE SCORE : 0.5000362992286682\n",
      "[3 / 300]\n",
      " - TRAIN LOSS : 66.67319689242882\n",
      "- TRAIN DICE SCORE : 0.5000156760215759\n",
      "\n",
      " - TEST LOSS : 66.67156430625361\n",
      "- TEST DICE SCORE : 0.5000362992286682\n"
     ]
    }
   ],
   "source": [
    "loss, score = training(model, trainDL, valDL, optimizer, EPOCH,\n",
    "                       data_size, val_data_size, loss_fn, score_fn, \n",
    "                       scheduler, DEVICE)"
   ]
  },
  {
   "cell_type": "code",
   "execution_count": null,
   "id": "8614efb6",
   "metadata": {},
   "outputs": [],
   "source": [
    "testDS = CTRDataset(test)\n",
    "\n",
    "testDL = DataLoader(testDS, batch_size=BATCH_SIZE, shuffle=False)"
   ]
  },
  {
   "cell_type": "code",
   "execution_count": null,
   "id": "68177c9c",
   "metadata": {},
   "outputs": [],
   "source": [
    "model.eval()\n",
    "output = []\n",
    "\n",
    "with torch.no_grad():\n",
    "    for test_features in testDL:\n",
    "        test_features = test_features.to(DEVICE)\n",
    "        output.append(model(test_features).cpu())\n",
    "\n",
    "test_preds = torch.cat(output).numpy()"
   ]
  },
  {
   "cell_type": "code",
   "execution_count": null,
   "id": "f01c49f3",
   "metadata": {},
   "outputs": [],
   "source": [
    "print(test_preds[:10])"
   ]
  },
  {
   "cell_type": "code",
   "execution_count": null,
   "id": "cc75cc36",
   "metadata": {},
   "outputs": [],
   "source": [
    "SUBMISSION_PATH = \"./data/sample_submission.csv\"\n",
    "\n",
    "submission_df = pd.read_csv(SUBMISSION_PATH)\n",
    "\n",
    "submission_df[\"clicked\"] = test_preds\n"
   ]
  },
  {
   "cell_type": "code",
   "execution_count": null,
   "id": "d4acdd47",
   "metadata": {},
   "outputs": [],
   "source": [
    "submission_df.to_csv(\"./data/DCNv2_submission.csv\", index=False)"
   ]
  },
  {
   "cell_type": "code",
   "execution_count": null,
   "id": "e30ab57d",
   "metadata": {},
   "outputs": [],
   "source": []
  }
 ],
 "metadata": {
  "kernelspec": {
   "display_name": "CTR_310",
   "language": "python",
   "name": "python3"
  },
  "language_info": {
   "codemirror_mode": {
    "name": "ipython",
    "version": 3
   },
   "file_extension": ".py",
   "mimetype": "text/x-python",
   "name": "python",
   "nbconvert_exporter": "python",
   "pygments_lexer": "ipython3",
   "version": "3.10.18"
  }
 },
 "nbformat": 4,
 "nbformat_minor": 5
}
